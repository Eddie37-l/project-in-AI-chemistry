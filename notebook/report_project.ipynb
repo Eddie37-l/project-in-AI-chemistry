{
 "cells": [
  {
   "cell_type": "markdown",
   "id": "971dbaa1-3887-4e1f-8cdc-0a3cfbe3cc4b",
   "metadata": {},
   "source": [
    "# 🤖 **RuBERT**: Ruthenium-catalyzed Hydrogenation Yield Prediction using BERT\n",
    "\n",
    "## 📓 Notebook Structure\n",
    "\n",
    "- [📌 Introduction](#📌-Introduction)\n",
    "- [🎯 Objective](#🎯-Objective)\n",
    "- [🔬 Methodology](#🔬-Methodology)\n",
    "- [📦 Requirements](#📦-Requirements)\n",
    "- [🔁 Example: Reaction Filtering](#🔁-Example:-Reaction-Filtering)\n",
    "- [📈 TO ADD: Reaction Rate Simulation](#📈-TO-ADD:-Reaction-Rate-Simulation)\n",
    "- [📊 TO ADD: Visualization](#📊-TO-ADD:-Visualization)\n",
    "- [✅ Conclusion](#✅-Conclusion)\n",
    "\n",
    "\n"
   ]
  },
  {
   "cell_type": "markdown",
   "id": "f7782156-a12f-4249-9121-970f85dd48b6",
   "metadata": {},
   "source": [
    "# 📌 Introduction\n",
    "### 🧐 What is RuBERT ? \n",
    "\n",
    "**RuBERT** is a machine learning model designed to **predict the yields** of ruthenium-catalyzed hydrogenation reactions on carbonyl compounds using molecular representations processed through **ChemBERTa**. \n",
    "\n",
    "  - Developed as part of a cheminformatics research project, RuBERT combines chemical knowledge with deep learning to support data-driven reaction optimization.\n",
    "\n",
    "  - The model leverages SMILES-based inputs and transformer-based embeddings to learn from a wide variety of ligands and carbonyl substrates. It aims to help chemists prioritize reaction conditions, reduce experimental trial-and-error, and gain insights into catalytic behavior.\n",
    "\n",
    "  - **RuBERT** integrates key concepts from computational chemistry, natural language processing, and reaction engineering into a flexible and scalable tool for predictive modeling in catalysis.\n"
   ]
  },
  {
   "cell_type": "markdown",
   "id": "b1148a12-868a-4856-848e-3e4944d58ded",
   "metadata": {},
   "source": [
    "# 🎯 Objective\n",
    "\n",
    "Our main goals are to:\n",
    "\n",
    "* Predict the reaction yield of ruthenium-catalyzed hydrogenations on carbonyl compounds using molecular representations and ChemBERTa embeddings.\n",
    "* Leverage transformer-based models to capture chemical context across diverse ligand and substrate combinations.\n"
   ]
  },
  {
   "cell_type": "markdown",
   "id": "d0677399-4883-4e5b-8466-02ba8cb5bce2",
   "metadata": {},
   "source": [
    "# 🔬 Methodology\n"
   ]
  },
  {
   "cell_type": "markdown",
   "id": "d4c7ca73-f717-43d9-943f-4e8fa8488e61",
   "metadata": {},
   "source": []
  }
 ],
 "metadata": {
  "kernelspec": {
   "display_name": "Python (chem-ia)",
   "language": "python",
   "name": "chem-ia"
  },
  "language_info": {
   "codemirror_mode": {
    "name": "ipython",
    "version": 3
   },
   "file_extension": ".py",
   "mimetype": "text/x-python",
   "name": "python",
   "nbconvert_exporter": "python",
   "pygments_lexer": "ipython3",
   "version": "3.10.11"
  }
 },
 "nbformat": 4,
 "nbformat_minor": 5
}
