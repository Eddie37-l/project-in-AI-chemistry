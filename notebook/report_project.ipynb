{
 "cells": [
  {
   "cell_type": "code",
   "execution_count": null,
   "id": "b7e3a182-0c01-4e6c-bf0f-c88e1556ddb5",
   "metadata": {},
   "outputs": [],
   "source": [
    "sdsdsd\n",
    "\n",
    "\n",
    "\n",
    "\n",
    "test"
   ]
  },
  {
   "cell_type": "markdown",
   "id": "971dbaa1-3887-4e1f-8cdc-0a3cfbe3cc4b",
   "metadata": {},
   "source": [
    "### Test\n",
    "## Test 2"
   ]
  },
  {
   "cell_type": "code",
   "execution_count": null,
   "id": "a017712b-a4ff-40f4-b824-05987a51e99e",
   "metadata": {},
   "outputs": [],
   "source": []
  }
 ],
 "metadata": {
  "kernelspec": {
   "display_name": "Python [conda env:base] *",
   "language": "python",
   "name": "conda-base-py"
  },
  "language_info": {
   "codemirror_mode": {
    "name": "ipython",
    "version": 3
   },
   "file_extension": ".py",
   "mimetype": "text/x-python",
   "name": "python",
   "nbconvert_exporter": "python",
   "pygments_lexer": "ipython3",
   "version": "3.12.7"
  }
 },
 "nbformat": 4,
 "nbformat_minor": 5
}
