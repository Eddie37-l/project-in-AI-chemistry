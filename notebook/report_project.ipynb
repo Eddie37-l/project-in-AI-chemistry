{
 "cells": [
  {
   "cell_type": "markdown",
   "id": "971dbaa1-3887-4e1f-8cdc-0a3cfbe3cc4b",
   "metadata": {},
   "source": [
    "# 🤖 RuBERT: Ruthenium-catalyzed Hydrogenation Yield Prediction using BERT\n",
    "\n",
    "## 📓 Notebook Structure\n",
    "\n"
   ]
  },
  {
   "cell_type": "markdown",
   "id": "f7782156-a12f-4249-9121-970f85dd48b6",
   "metadata": {},
   "source": [
    "## Introduction\n",
    "### 🧐 What is RuBERT ? \n",
    "\n",
    "**RuBERT** is an artifical intelligence **predicting yields** of Ruthenium-catalyzed hydrogenation on carbonyls based on BERT and huge variety of ligands and carbonyls as starting material.\n"
   ]
  },
  {
   "cell_type": "markdown",
   "id": "b1148a12-868a-4856-848e-3e4944d58ded",
   "metadata": {},
   "source": [
    "### 🎯 Project Goals\n",
    "\n",
    "This project aims to develop an AI predicting yields of Ru-catalyzed hydrogenation on carbonyls close to reality with a variety of ligands and starting materials, in this case carbonyls."
   ]
  },
  {
   "cell_type": "code",
   "execution_count": null,
   "id": "b7e3a182-0c01-4e6c-bf0f-c88e1556ddb5",
   "metadata": {},
   "outputs": [],
   "source": [
    "sdsdsd\n",
    "\n",
    "\n",
    "\n",
    "\n",
    "test"
   ]
  },
  {
   "cell_type": "code",
   "execution_count": null,
   "id": "a017712b-a4ff-40f4-b824-05987a51e99e",
   "metadata": {},
   "outputs": [],
   "source": []
  }
 ],
 "metadata": {
  "kernelspec": {
   "display_name": "Python (chem-ia)",
   "language": "python",
   "name": "chem-ia"
  },
  "language_info": {
   "codemirror_mode": {
    "name": "ipython",
    "version": 3
   },
   "file_extension": ".py",
   "mimetype": "text/x-python",
   "name": "python",
   "nbconvert_exporter": "python",
   "pygments_lexer": "ipython3",
   "version": "3.10.11"
  }
 },
 "nbformat": 4,
 "nbformat_minor": 5
}
